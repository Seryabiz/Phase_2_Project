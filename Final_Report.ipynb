{
 "cells": [
  {
   "cell_type": "markdown",
   "id": "c18f5791-f5c8-4f5b-96f8-a7c12268f0f5",
   "metadata": {},
   "source": [
    "# Movie Studio Analysis: Identifying Key Factors for Success in the Film Industry\n",
    "## Background\n",
    "The movie studio industry faces increasing pressure to maximize efficiency, minimize costs, and improve profitability while remaining competitive in an ever-changing market. With the growing complexity of film production, distribution, and marketing, studios must leverage data-driven insights to make informed decisions and stay ahead of industry trends. The project involves researching current box office trends to identify film genres, themes, and styles that are resonating most with audiences. This data-driven analysis will highlight popular film characteristics and emerging viewer preferences, offering valuable insights on what types of movies are achieving commercial success.\n",
    "\n",
    "## Problem Statement\n",
    "This problem revolves around understanding and improving the operational performance of movie studios using data analytics. The goal is to identify inefficiencies, optimize production pipelines, and propose actionable recommendations to enhance overall business performance.\n",
    "We were charged with exploring what types of films are currently doing the best at the box office. We must then translate those findings into actionable insights that the head of your company's new movie studio can use to help decide what type of films to create.\n",
    "\n",
    "## Objectives\n",
    "\n",
    "1. Analyze the trend in movie sales over time to identify shifts in audience demand.\n",
    "2. Identify key market segments to target for maximum engagement and revenue generation.\n",
    "3. Assess the popularity of different film genres to guide genre selection in alignment with audience preferences.\n",
    "4. Evaluate the impact of movie runtime on popularity to determine optimal lengths for future productions.\n",
    "\n",
    "## Data cleaning and preparation"
   ]
  },
  {
   "cell_type": "code",
   "execution_count": 28,
   "id": "1d687ceb",
   "metadata": {},
   "outputs": [],
   "source": [
    "# Importing all the libraries to be used in our analysis\n",
    "import pandas as pd\n",
    "import numpy as np\n",
    "import sqlite3\n",
    "import seaborn as sns\n",
    "import matplotlib.pyplot as plt\n",
    "import scipy.stats as stats\n",
    "import statsmodels.api as sm\n",
    "import zipfile\n",
    "from sklearn.linear_model import LinearRegression\n",
    "from sklearn.model_selection import train_test_split\n",
    "from sklearn.metrics import mean_squared_error, r2_score"
   ]
  },
  {
   "cell_type": "code",
   "execution_count": 29,
   "id": "db2f4d74",
   "metadata": {},
   "outputs": [
    {
     "data": {
      "text/html": [
       "<div>\n",
       "<style scoped>\n",
       "    .dataframe tbody tr th:only-of-type {\n",
       "        vertical-align: middle;\n",
       "    }\n",
       "\n",
       "    .dataframe tbody tr th {\n",
       "        vertical-align: top;\n",
       "    }\n",
       "\n",
       "    .dataframe thead th {\n",
       "        text-align: right;\n",
       "    }\n",
       "</style>\n",
       "<table border=\"1\" class=\"dataframe\">\n",
       "  <thead>\n",
       "    <tr style=\"text-align: right;\">\n",
       "      <th></th>\n",
       "      <th>title</th>\n",
       "      <th>studio</th>\n",
       "      <th>domestic_gross</th>\n",
       "      <th>foreign_gross</th>\n",
       "      <th>year</th>\n",
       "    </tr>\n",
       "  </thead>\n",
       "  <tbody>\n",
       "    <tr>\n",
       "      <th>0</th>\n",
       "      <td>Toy Story 3</td>\n",
       "      <td>BV</td>\n",
       "      <td>415000000.0</td>\n",
       "      <td>652000000</td>\n",
       "      <td>2010</td>\n",
       "    </tr>\n",
       "    <tr>\n",
       "      <th>1</th>\n",
       "      <td>Alice in Wonderland (2010)</td>\n",
       "      <td>BV</td>\n",
       "      <td>334200000.0</td>\n",
       "      <td>691300000</td>\n",
       "      <td>2010</td>\n",
       "    </tr>\n",
       "    <tr>\n",
       "      <th>2</th>\n",
       "      <td>Harry Potter and the Deathly Hallows Part 1</td>\n",
       "      <td>WB</td>\n",
       "      <td>296000000.0</td>\n",
       "      <td>664300000</td>\n",
       "      <td>2010</td>\n",
       "    </tr>\n",
       "    <tr>\n",
       "      <th>3</th>\n",
       "      <td>Inception</td>\n",
       "      <td>WB</td>\n",
       "      <td>292600000.0</td>\n",
       "      <td>535700000</td>\n",
       "      <td>2010</td>\n",
       "    </tr>\n",
       "    <tr>\n",
       "      <th>4</th>\n",
       "      <td>Shrek Forever After</td>\n",
       "      <td>P/DW</td>\n",
       "      <td>238700000.0</td>\n",
       "      <td>513900000</td>\n",
       "      <td>2010</td>\n",
       "    </tr>\n",
       "  </tbody>\n",
       "</table>\n",
       "</div>"
      ],
      "text/plain": [
       "                                         title studio  domestic_gross  \\\n",
       "0                                  Toy Story 3     BV     415000000.0   \n",
       "1                   Alice in Wonderland (2010)     BV     334200000.0   \n",
       "2  Harry Potter and the Deathly Hallows Part 1     WB     296000000.0   \n",
       "3                                    Inception     WB     292600000.0   \n",
       "4                          Shrek Forever After   P/DW     238700000.0   \n",
       "\n",
       "  foreign_gross  year  \n",
       "0     652000000  2010  \n",
       "1     691300000  2010  \n",
       "2     664300000  2010  \n",
       "3     535700000  2010  \n",
       "4     513900000  2010  "
      ]
     },
     "execution_count": 29,
     "metadata": {},
     "output_type": "execute_result"
    }
   ],
   "source": [
    "#Loading the data from .csv\n",
    "with zipfile.ZipFile(\"./DATA/bom.movie_gross.zip\",\"r\") as z:\n",
    "    with z.open(\"bom.movie_gross.csv\") as f:\n",
    "        df1 = pd.read_csv(f)\n",
    "df1.head()"
   ]
  },
  {
   "cell_type": "code",
   "execution_count": 30,
   "id": "6cbe19be-b5d5-41ac-a7ff-bb0e3844feff",
   "metadata": {},
   "outputs": [],
   "source": [
    "# droppinng null values and adjusting the data types\n",
    "df1.dropna(inplace = True)\n",
    "df1['foreign_gross'] = df1['foreign_gross'].str.replace(',','').astype('float')"
   ]
  },
  {
   "cell_type": "code",
   "execution_count": 31,
   "id": "63c5751e-e5dc-4b6e-a6c3-c96784f26a17",
   "metadata": {},
   "outputs": [
    {
     "name": "stdout",
     "output_type": "stream",
     "text": [
      "<class 'pandas.core.frame.DataFrame'>\n",
      "Index: 2007 entries, 0 to 3353\n",
      "Data columns (total 5 columns):\n",
      " #   Column          Non-Null Count  Dtype  \n",
      "---  ------          --------------  -----  \n",
      " 0   title           2007 non-null   object \n",
      " 1   studio          2007 non-null   object \n",
      " 2   domestic_gross  2007 non-null   float64\n",
      " 3   foreign_gross   2007 non-null   float64\n",
      " 4   year            2007 non-null   int64  \n",
      "dtypes: float64(2), int64(1), object(2)\n",
      "memory usage: 94.1+ KB\n"
     ]
    }
   ],
   "source": [
    "# getting to understand what is contained in the dataframe\n",
    "df1.info()"
   ]
  },
  {
   "cell_type": "code",
   "execution_count": 32,
   "id": "867716fc-b9d9-48d9-922c-200303451f14",
   "metadata": {},
   "outputs": [
    {
     "data": {
      "text/html": [
       "<div>\n",
       "<style scoped>\n",
       "    .dataframe tbody tr th:only-of-type {\n",
       "        vertical-align: middle;\n",
       "    }\n",
       "\n",
       "    .dataframe tbody tr th {\n",
       "        vertical-align: top;\n",
       "    }\n",
       "\n",
       "    .dataframe thead th {\n",
       "        text-align: right;\n",
       "    }\n",
       "</style>\n",
       "<table border=\"1\" class=\"dataframe\">\n",
       "  <thead>\n",
       "    <tr style=\"text-align: right;\">\n",
       "      <th></th>\n",
       "      <th>domestic_gross</th>\n",
       "      <th>foreign_gross</th>\n",
       "      <th>year</th>\n",
       "    </tr>\n",
       "  </thead>\n",
       "  <tbody>\n",
       "    <tr>\n",
       "      <th>count</th>\n",
       "      <td>2.007000e+03</td>\n",
       "      <td>2.007000e+03</td>\n",
       "      <td>2007.000000</td>\n",
       "    </tr>\n",
       "    <tr>\n",
       "      <th>mean</th>\n",
       "      <td>4.701984e+07</td>\n",
       "      <td>7.579038e+07</td>\n",
       "      <td>2013.506228</td>\n",
       "    </tr>\n",
       "    <tr>\n",
       "      <th>std</th>\n",
       "      <td>8.162689e+07</td>\n",
       "      <td>1.381796e+08</td>\n",
       "      <td>2.597997</td>\n",
       "    </tr>\n",
       "    <tr>\n",
       "      <th>min</th>\n",
       "      <td>4.000000e+02</td>\n",
       "      <td>6.000000e+02</td>\n",
       "      <td>2010.000000</td>\n",
       "    </tr>\n",
       "    <tr>\n",
       "      <th>25%</th>\n",
       "      <td>6.700000e+05</td>\n",
       "      <td>3.900000e+06</td>\n",
       "      <td>2011.000000</td>\n",
       "    </tr>\n",
       "    <tr>\n",
       "      <th>50%</th>\n",
       "      <td>1.670000e+07</td>\n",
       "      <td>1.940000e+07</td>\n",
       "      <td>2013.000000</td>\n",
       "    </tr>\n",
       "    <tr>\n",
       "      <th>75%</th>\n",
       "      <td>5.605000e+07</td>\n",
       "      <td>7.595000e+07</td>\n",
       "      <td>2016.000000</td>\n",
       "    </tr>\n",
       "    <tr>\n",
       "      <th>max</th>\n",
       "      <td>9.367000e+08</td>\n",
       "      <td>9.605000e+08</td>\n",
       "      <td>2018.000000</td>\n",
       "    </tr>\n",
       "  </tbody>\n",
       "</table>\n",
       "</div>"
      ],
      "text/plain": [
       "       domestic_gross  foreign_gross         year\n",
       "count    2.007000e+03   2.007000e+03  2007.000000\n",
       "mean     4.701984e+07   7.579038e+07  2013.506228\n",
       "std      8.162689e+07   1.381796e+08     2.597997\n",
       "min      4.000000e+02   6.000000e+02  2010.000000\n",
       "25%      6.700000e+05   3.900000e+06  2011.000000\n",
       "50%      1.670000e+07   1.940000e+07  2013.000000\n",
       "75%      5.605000e+07   7.595000e+07  2016.000000\n",
       "max      9.367000e+08   9.605000e+08  2018.000000"
      ]
     },
     "execution_count": 32,
     "metadata": {},
     "output_type": "execute_result"
    }
   ],
   "source": [
    "#descriptive statistics of the data\n",
    "df1.describe()"
   ]
  },
  {
   "cell_type": "markdown",
   "id": "5e0ac72b-f9ea-412c-a700-269618388be9",
   "metadata": {},
   "source": [
    "The data is made up five columns.\n",
    "\n",
    "- The **title** column containes the titles of the movies produced by different studios\n",
    "- The **studio** column contains the names of the studio which produced differnt movies\n",
    "- The **domestic_gross** column has the amount realized for selling a movie in the domestic market\n",
    "- The **foreign_gross** column has the amount realized for selling a movie in the foreign market\n",
    "- The **year** column shows the year in which the movie was produced"
   ]
  },
  {
   "cell_type": "code",
   "execution_count": 33,
   "id": "8a946e41-fb3f-4fe1-8d38-f21f0d152f81",
   "metadata": {},
   "outputs": [],
   "source": [
    "# create a new column that has the total sales for a movie\n",
    "df1['combined_gross'] = df1['domestic_gross'] + df1['foreign_gross']"
   ]
  },
  {
   "cell_type": "code",
   "execution_count": 34,
   "id": "9c0f40c7-78d1-431d-a0ba-da9fef03227b",
   "metadata": {},
   "outputs": [],
   "source": [
    "# loading the second dataset to be used\n",
    "with zipfile.ZipFile('./DATA/im.db.zip', 'r') as z:\n",
    "    z.extract('im.db',\"./To_ignore\")"
   ]
  },
  {
   "cell_type": "code",
   "execution_count": 35,
   "id": "8413b24b-1e2e-4004-9619-3954f9c46eee",
   "metadata": {},
   "outputs": [],
   "source": [
    "#creating a connection to the database\n",
    "conn = sqlite3.connect(\"./To_ignore/im.db\")"
   ]
  },
  {
   "cell_type": "code",
   "execution_count": 36,
   "id": "2c46f4d3-2a8c-41cd-959b-7dffaed2da48",
   "metadata": {},
   "outputs": [
    {
     "data": {
      "text/html": [
       "<div>\n",
       "<style scoped>\n",
       "    .dataframe tbody tr th:only-of-type {\n",
       "        vertical-align: middle;\n",
       "    }\n",
       "\n",
       "    .dataframe tbody tr th {\n",
       "        vertical-align: top;\n",
       "    }\n",
       "\n",
       "    .dataframe thead th {\n",
       "        text-align: right;\n",
       "    }\n",
       "</style>\n",
       "<table border=\"1\" class=\"dataframe\">\n",
       "  <thead>\n",
       "    <tr style=\"text-align: right;\">\n",
       "      <th></th>\n",
       "      <th>name</th>\n",
       "    </tr>\n",
       "  </thead>\n",
       "  <tbody>\n",
       "    <tr>\n",
       "      <th>0</th>\n",
       "      <td>movie_basics</td>\n",
       "    </tr>\n",
       "    <tr>\n",
       "      <th>1</th>\n",
       "      <td>directors</td>\n",
       "    </tr>\n",
       "    <tr>\n",
       "      <th>2</th>\n",
       "      <td>known_for</td>\n",
       "    </tr>\n",
       "    <tr>\n",
       "      <th>3</th>\n",
       "      <td>movie_akas</td>\n",
       "    </tr>\n",
       "    <tr>\n",
       "      <th>4</th>\n",
       "      <td>movie_ratings</td>\n",
       "    </tr>\n",
       "    <tr>\n",
       "      <th>5</th>\n",
       "      <td>persons</td>\n",
       "    </tr>\n",
       "    <tr>\n",
       "      <th>6</th>\n",
       "      <td>principals</td>\n",
       "    </tr>\n",
       "    <tr>\n",
       "      <th>7</th>\n",
       "      <td>writers</td>\n",
       "    </tr>\n",
       "  </tbody>\n",
       "</table>\n",
       "</div>"
      ],
      "text/plain": [
       "            name\n",
       "0   movie_basics\n",
       "1      directors\n",
       "2      known_for\n",
       "3     movie_akas\n",
       "4  movie_ratings\n",
       "5        persons\n",
       "6     principals\n",
       "7        writers"
      ]
     },
     "execution_count": 36,
     "metadata": {},
     "output_type": "execute_result"
    }
   ],
   "source": [
    "# To view the tables in our database\n",
    "pd.read_sql('''\n",
    "            SELECT name FROM sqlite_master\n",
    "            WHERE type = 'table'\n",
    "            ''',conn)"
   ]
  },
  {
   "cell_type": "markdown",
   "id": "1097e877-74d4-47fd-a4d3-b3489a31dfa6",
   "metadata": {},
   "source": [
    "The tables contained in our database are 8 but we will only utilize 3 for this analysis, that is, movie_ratings, movie_akas, and movie_basics. "
   ]
  },
  {
   "cell_type": "code",
   "execution_count": 37,
   "id": "4c49e59d-5f98-4d9e-b85c-516cb6c3f61b",
   "metadata": {},
   "outputs": [
    {
     "data": {
      "text/html": [
       "<div>\n",
       "<style scoped>\n",
       "    .dataframe tbody tr th:only-of-type {\n",
       "        vertical-align: middle;\n",
       "    }\n",
       "\n",
       "    .dataframe tbody tr th {\n",
       "        vertical-align: top;\n",
       "    }\n",
       "\n",
       "    .dataframe thead th {\n",
       "        text-align: right;\n",
       "    }\n",
       "</style>\n",
       "<table border=\"1\" class=\"dataframe\">\n",
       "  <thead>\n",
       "    <tr style=\"text-align: right;\">\n",
       "      <th></th>\n",
       "      <th>title</th>\n",
       "      <th>runtime_minutes</th>\n",
       "      <th>genres</th>\n",
       "      <th>rating</th>\n",
       "      <th>numvotes</th>\n",
       "    </tr>\n",
       "  </thead>\n",
       "  <tbody>\n",
       "    <tr>\n",
       "      <th>0</th>\n",
       "      <td>Sangharsh</td>\n",
       "      <td>175.0</td>\n",
       "      <td>Action,Crime,Drama</td>\n",
       "      <td>7.0</td>\n",
       "      <td>77.0</td>\n",
       "    </tr>\n",
       "    <tr>\n",
       "      <th>1</th>\n",
       "      <td>Sungharsh</td>\n",
       "      <td>175.0</td>\n",
       "      <td>Action,Crime,Drama</td>\n",
       "      <td>7.0</td>\n",
       "      <td>77.0</td>\n",
       "    </tr>\n",
       "    <tr>\n",
       "      <th>2</th>\n",
       "      <td>Sunghursh</td>\n",
       "      <td>175.0</td>\n",
       "      <td>Action,Crime,Drama</td>\n",
       "      <td>7.0</td>\n",
       "      <td>77.0</td>\n",
       "    </tr>\n",
       "    <tr>\n",
       "      <th>3</th>\n",
       "      <td>Sunghursh</td>\n",
       "      <td>175.0</td>\n",
       "      <td>Action,Crime,Drama</td>\n",
       "      <td>7.0</td>\n",
       "      <td>77.0</td>\n",
       "    </tr>\n",
       "    <tr>\n",
       "      <th>4</th>\n",
       "      <td>Sunghursh</td>\n",
       "      <td>175.0</td>\n",
       "      <td>Action,Crime,Drama</td>\n",
       "      <td>7.0</td>\n",
       "      <td>77.0</td>\n",
       "    </tr>\n",
       "  </tbody>\n",
       "</table>\n",
       "</div>"
      ],
      "text/plain": [
       "       title  runtime_minutes              genres  rating  numvotes\n",
       "0  Sangharsh            175.0  Action,Crime,Drama     7.0      77.0\n",
       "1  Sungharsh            175.0  Action,Crime,Drama     7.0      77.0\n",
       "2  Sunghursh            175.0  Action,Crime,Drama     7.0      77.0\n",
       "3  Sunghursh            175.0  Action,Crime,Drama     7.0      77.0\n",
       "4  Sunghursh            175.0  Action,Crime,Drama     7.0      77.0"
      ]
     },
     "execution_count": 37,
     "metadata": {},
     "output_type": "execute_result"
    }
   ],
   "source": [
    "# Selecting the tables to be used in this research\n",
    "query = '''SELECT title,runtime_minutes,\n",
    "            genres,averagerating AS rating,\n",
    "            numvotes\n",
    "            FROM movie_basics\n",
    "            LEFT JOIN movie_ratings\n",
    "            USING(movie_id)\n",
    "            LEFT JOIN movie_akas\n",
    "            USING(movie_id)\n",
    "            WHERE runtime_minutes < 1500\n",
    "            '''\n",
    "df2 = pd.read_sql(query,conn)\n",
    "df2.head()"
   ]
  },
  {
   "cell_type": "code",
   "execution_count": 38,
   "id": "a3af7c19-013f-4c5e-9e97-6c140684279e",
   "metadata": {},
   "outputs": [
    {
     "name": "stdout",
     "output_type": "stream",
     "text": [
      "<class 'pandas.core.frame.DataFrame'>\n",
      "Index: 249717 entries, 0 to 314172\n",
      "Data columns (total 5 columns):\n",
      " #   Column           Non-Null Count   Dtype  \n",
      "---  ------           --------------   -----  \n",
      " 0   title            249717 non-null  object \n",
      " 1   runtime_minutes  249717 non-null  float64\n",
      " 2   genres           249717 non-null  object \n",
      " 3   rating           249717 non-null  float64\n",
      " 4   numvotes         249717 non-null  float64\n",
      "dtypes: float64(3), object(2)\n",
      "memory usage: 11.4+ MB\n"
     ]
    }
   ],
   "source": [
    "# To drop the null values and see more information about the data\n",
    "df2.dropna(inplace=True)\n",
    "df2.info()"
   ]
  },
  {
   "cell_type": "code",
   "execution_count": 39,
   "id": "33e6ff1d-f869-4320-bb0a-d749f622e7a8",
   "metadata": {},
   "outputs": [
    {
     "data": {
      "text/html": [
       "<div>\n",
       "<style scoped>\n",
       "    .dataframe tbody tr th:only-of-type {\n",
       "        vertical-align: middle;\n",
       "    }\n",
       "\n",
       "    .dataframe tbody tr th {\n",
       "        vertical-align: top;\n",
       "    }\n",
       "\n",
       "    .dataframe thead th {\n",
       "        text-align: right;\n",
       "    }\n",
       "</style>\n",
       "<table border=\"1\" class=\"dataframe\">\n",
       "  <thead>\n",
       "    <tr style=\"text-align: right;\">\n",
       "      <th></th>\n",
       "      <th>runtime_minutes</th>\n",
       "      <th>rating</th>\n",
       "      <th>numvotes</th>\n",
       "    </tr>\n",
       "  </thead>\n",
       "  <tbody>\n",
       "    <tr>\n",
       "      <th>count</th>\n",
       "      <td>249717.000000</td>\n",
       "      <td>249717.000000</td>\n",
       "      <td>2.497170e+05</td>\n",
       "    </tr>\n",
       "    <tr>\n",
       "      <th>mean</th>\n",
       "      <td>99.262341</td>\n",
       "      <td>6.270072</td>\n",
       "      <td>3.017144e+04</td>\n",
       "    </tr>\n",
       "    <tr>\n",
       "      <th>std</th>\n",
       "      <td>22.247894</td>\n",
       "      <td>1.241242</td>\n",
       "      <td>9.678438e+04</td>\n",
       "    </tr>\n",
       "    <tr>\n",
       "      <th>min</th>\n",
       "      <td>3.000000</td>\n",
       "      <td>1.000000</td>\n",
       "      <td>5.000000e+00</td>\n",
       "    </tr>\n",
       "    <tr>\n",
       "      <th>25%</th>\n",
       "      <td>87.000000</td>\n",
       "      <td>5.600000</td>\n",
       "      <td>8.100000e+01</td>\n",
       "    </tr>\n",
       "    <tr>\n",
       "      <th>50%</th>\n",
       "      <td>96.000000</td>\n",
       "      <td>6.400000</td>\n",
       "      <td>7.650000e+02</td>\n",
       "    </tr>\n",
       "    <tr>\n",
       "      <th>75%</th>\n",
       "      <td>110.000000</td>\n",
       "      <td>7.100000</td>\n",
       "      <td>8.751000e+03</td>\n",
       "    </tr>\n",
       "    <tr>\n",
       "      <th>max</th>\n",
       "      <td>1440.000000</td>\n",
       "      <td>10.000000</td>\n",
       "      <td>1.841066e+06</td>\n",
       "    </tr>\n",
       "  </tbody>\n",
       "</table>\n",
       "</div>"
      ],
      "text/plain": [
       "       runtime_minutes         rating      numvotes\n",
       "count    249717.000000  249717.000000  2.497170e+05\n",
       "mean         99.262341       6.270072  3.017144e+04\n",
       "std          22.247894       1.241242  9.678438e+04\n",
       "min           3.000000       1.000000  5.000000e+00\n",
       "25%          87.000000       5.600000  8.100000e+01\n",
       "50%          96.000000       6.400000  7.650000e+02\n",
       "75%         110.000000       7.100000  8.751000e+03\n",
       "max        1440.000000      10.000000  1.841066e+06"
      ]
     },
     "execution_count": 39,
     "metadata": {},
     "output_type": "execute_result"
    }
   ],
   "source": [
    "# To get the descriptive statistics of the second dataset\n",
    "df2.describe()"
   ]
  },
  {
   "cell_type": "markdown",
   "id": "4d9fc0c8-05c8-49d3-aac1-0043573f6611",
   "metadata": {},
   "source": [
    "The second dataset contains 5 columns.\n",
    "- **title** column with the title of the movies\n",
    "- **runtime_minutes** column with the time each movie takes to watch\n",
    "- **genres** column with the genre of the movie\n",
    "- **rating** column with the rating of the movie\n",
    "- **numvotes** column has the number of votes for each movie\n",
    "\n",
    "## Exploratory Data Analysis (EDA)\n",
    "\n",
    "To understand the trend of the sales overtime, we make a line plot."
   ]
  },
  {
   "cell_type": "code",
   "execution_count": 40,
   "id": "ed4fc6cc-c083-4f2c-bb04-81664581a413",
   "metadata": {},
   "outputs": [
    {
     "name": "stderr",
     "output_type": "stream",
     "text": [
      "C:\\Users\\admin\\anaconda3\\Lib\\site-packages\\seaborn\\_oldcore.py:1119: FutureWarning: use_inf_as_na option is deprecated and will be removed in a future version. Convert inf values to NaN before operating instead.\n",
      "  with pd.option_context('mode.use_inf_as_na', True):\n",
      "C:\\Users\\admin\\anaconda3\\Lib\\site-packages\\seaborn\\_oldcore.py:1119: FutureWarning: use_inf_as_na option is deprecated and will be removed in a future version. Convert inf values to NaN before operating instead.\n",
      "  with pd.option_context('mode.use_inf_as_na', True):\n",
      "C:\\Users\\admin\\anaconda3\\Lib\\site-packages\\seaborn\\_oldcore.py:1119: FutureWarning: use_inf_as_na option is deprecated and will be removed in a future version. Convert inf values to NaN before operating instead.\n",
      "  with pd.option_context('mode.use_inf_as_na', True):\n",
      "C:\\Users\\admin\\anaconda3\\Lib\\site-packages\\seaborn\\_oldcore.py:1119: FutureWarning: use_inf_as_na option is deprecated and will be removed in a future version. Convert inf values to NaN before operating instead.\n",
      "  with pd.option_context('mode.use_inf_as_na', True):\n",
      "C:\\Users\\admin\\anaconda3\\Lib\\site-packages\\seaborn\\_oldcore.py:1119: FutureWarning: use_inf_as_na option is deprecated and will be removed in a future version. Convert inf values to NaN before operating instead.\n",
      "  with pd.option_context('mode.use_inf_as_na', True):\n",
      "C:\\Users\\admin\\anaconda3\\Lib\\site-packages\\seaborn\\_oldcore.py:1119: FutureWarning: use_inf_as_na option is deprecated and will be removed in a future version. Convert inf values to NaN before operating instead.\n",
      "  with pd.option_context('mode.use_inf_as_na', True):\n"
     ]
    },
    {
     "data": {
      "image/png": "[encoded data removed]",
      "text/plain": [
       "<Figure size 640x480 with 1 Axes>"
      ]
     },
     "metadata": {},
     "output_type": "display_data"
    }
   ],
   "source": [
    "## Construction of a line plot using seaborn\n",
    "fig, ax = plt.subplots()\n",
    "sns.lineplot(x = df1['year'],y = df1['combined_gross'])\n",
    "sns.lineplot(x = df1['year'],y = df1['foreign_gross'])\n",
    "sns.lineplot(x = df1['year'],y = df1['domestic_gross']);"
   ]
  },
  {
   "cell_type": "markdown",
   "id": "3b007596-1400-4a1e-b48a-7d0b1d418c40",
   "metadata": {},
   "source": [
    "**Recommendation 1:** As shown in the above diagram, there has been an increase in the sales of the movies overtime indicating that the industry's demand has been on the rise, therefore this venture is viable for the company and could definately be explored.\n",
    "\n",
    "We have to then understand the difference in the domestic market and the foreign markets and whether there is a need to focus on one to improve on the profits."
   ]
  },
  {
   "cell_type": "code",
   "execution_count": 42,
   "id": "7ce51f75-ceb9-4de5-bed8-0017f9fc5e91",
   "metadata": {},
   "outputs": [
    {
     "data": {
      "image/png": "[encoded data removed]",
      "text/plain": [
       "<Figure size 640x480 with 1 Axes>"
      ]
     },
     "metadata": {},
     "output_type": "display_data"
    }
   ],
   "source": [
    "# A plot to show the difference between the domestic market and the foreign market\n",
    "x = ['domestic','foreign']\n",
    "y = [df1['domestic_gross'].mean(),df1['foreign_gross'].mean()]\n",
    "fig, ax = plt.subplots()\n",
    "ax.bar(x,y)\n",
    "ax.set_title(\"The difference between the gross amounts in domestic and foreign markets\")\n",
    "ax.set_ylabel(\"Gross amount\")\n",
    "ax.set_xlabel(\"Market\");"
   ]
  },
  {
   "cell_type": "markdown",
   "id": "a2a9ca8a-7bc0-4db8-a702-03b04cc9215b",
   "metadata": {},
   "source": [
    "From the bar plot above there is a difference in the amounts gained in the foreign market and in the domestic market. The foreign market has more returns than the domestic market. This could be attributed to the size of the two markets. \n",
    "\n",
    "**Recommendation 2:** The company should focus on maximizing on the foreign market sales.\n",
    "\n",
    "To get a better understanding of how to be successful in this industry the company could benchmark from the top performing studios and get to understand what it is they do to set themselves apart."
   ]
  },
  {
   "cell_type": "code",
   "execution_count": 45,
   "id": "2fa237b4-baf0-4e08-8ed1-c4efb8df2be3",
   "metadata": {},
   "outputs": [
    {
     "data": {
      "text/html": [
       "<div>\n",
       "<style scoped>\n",
       "    .dataframe tbody tr th:only-of-type {\n",
       "        vertical-align: middle;\n",
       "    }\n",
       "\n",
       "    .dataframe tbody tr th {\n",
       "        vertical-align: top;\n",
       "    }\n",
       "\n",
       "    .dataframe thead th {\n",
       "        text-align: right;\n",
       "    }\n",
       "</style>\n",
       "<table border=\"1\" class=\"dataframe\">\n",
       "  <thead>\n",
       "    <tr style=\"text-align: right;\">\n",
       "      <th></th>\n",
       "      <th>combined_gross</th>\n",
       "      <th>domestic_gross</th>\n",
       "      <th>foreign_gross</th>\n",
       "    </tr>\n",
       "    <tr>\n",
       "      <th>studio</th>\n",
       "      <th></th>\n",
       "      <th></th>\n",
       "      <th></th>\n",
       "    </tr>\n",
       "  </thead>\n",
       "  <tbody>\n",
       "    <tr>\n",
       "      <th>HC</th>\n",
       "      <td>8.703000e+08</td>\n",
       "      <td>2.700000e+06</td>\n",
       "      <td>8.676000e+08</td>\n",
       "    </tr>\n",
       "    <tr>\n",
       "      <th>P/DW</th>\n",
       "      <td>5.076500e+08</td>\n",
       "      <td>1.682900e+08</td>\n",
       "      <td>3.393600e+08</td>\n",
       "    </tr>\n",
       "    <tr>\n",
       "      <th>BV</th>\n",
       "      <td>4.249075e+08</td>\n",
       "      <td>1.768897e+08</td>\n",
       "      <td>2.480178e+08</td>\n",
       "    </tr>\n",
       "    <tr>\n",
       "      <th>GrtIndia</th>\n",
       "      <td>2.542000e+08</td>\n",
       "      <td>2.020000e+07</td>\n",
       "      <td>2.340000e+08</td>\n",
       "    </tr>\n",
       "    <tr>\n",
       "      <th>WB</th>\n",
       "      <td>2.368577e+08</td>\n",
       "      <td>9.325846e+07</td>\n",
       "      <td>1.435993e+08</td>\n",
       "    </tr>\n",
       "  </tbody>\n",
       "</table>\n",
       "</div>"
      ],
      "text/plain": [
       "          combined_gross  domestic_gross  foreign_gross\n",
       "studio                                                 \n",
       "HC          8.703000e+08    2.700000e+06   8.676000e+08\n",
       "P/DW        5.076500e+08    1.682900e+08   3.393600e+08\n",
       "BV          4.249075e+08    1.768897e+08   2.480178e+08\n",
       "GrtIndia    2.542000e+08    2.020000e+07   2.340000e+08\n",
       "WB          2.368577e+08    9.325846e+07   1.435993e+08"
      ]
     },
     "execution_count": 45,
     "metadata": {},
     "output_type": "execute_result"
    }
   ],
   "source": [
    "studio = df1.groupby(['studio'])[['combined_gross','domestic_gross','foreign_gross']].mean().sort_values('combined_gross',ascending = False)\n",
    "studio.head()"
   ]
  },
  {
   "cell_type": "code",
   "execution_count": null,
   "id": "5990c5e0-b25e-40f5-969d-dcb27e4e0a45",
   "metadata": {},
   "outputs": [],
   "source": []
  }
 ],
 "metadata": {
  "kernelspec": {
   "display_name": "Python 3 (ipykernel)",
   "language": "python",
   "name": "python3"
  },
  "language_info": {
   "codemirror_mode": {
    "name": "ipython",
    "version": 3
   },
   "file_extension": ".py",
   "mimetype": "text/x-python",
   "name": "python",
   "nbconvert_exporter": "python",
   "pygments_lexer": "ipython3",
   "version": "3.11.7"
  }
 },
 "nbformat": 4,
 "nbformat_minor": 5
}
