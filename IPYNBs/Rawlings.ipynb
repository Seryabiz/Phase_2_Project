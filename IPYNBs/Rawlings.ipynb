{
 "cells": [
  {
   "cell_type": "markdown",
   "id": "bac4d503-f0f3-4f5c-b5fa-bd62e1fd5fc5",
   "metadata": {},
   "source": [
    "# Project, Phase 2"
   ]
  },
  {
   "cell_type": "code",
   "execution_count": null,
   "id": "bfeeb171-93a2-4af0-a598-c81fcd13c8b1",
   "metadata": {},
   "outputs": [],
   "source": []
  }
 ],
 "metadata": {
  "kernelspec": {
   "display_name": "Python 3 (ipykernel)",
   "language": "python",
   "name": "python3"
  },
  "language_info": {
   "codemirror_mode": {
    "name": "ipython",
    "version": 3
   },
   "file_extension": ".py",
   "mimetype": "text/x-python",
   "name": "python",
   "nbconvert_exporter": "python",
   "pygments_lexer": "ipython3",
   "version": "3.11.7"
  }
 },
 "nbformat": 4,
 "nbformat_minor": 5
}
